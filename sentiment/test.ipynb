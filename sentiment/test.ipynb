{
 "cells": [
  {
   "cell_type": "code",
   "execution_count": 8,
   "metadata": {},
   "outputs": [],
   "source": [
    "import spacy"
   ]
  },
  {
   "cell_type": "code",
   "execution_count": 9,
   "metadata": {},
   "outputs": [],
   "source": [
    "nlp=spacy.load('en_core_web_lg')"
   ]
  },
  {
   "cell_type": "code",
   "execution_count": 13,
   "metadata": {},
   "outputs": [],
   "source": [
    "token=nlp(u\"dog elephant pet\")"
   ]
  },
  {
   "cell_type": "code",
   "execution_count": 14,
   "metadata": {},
   "outputs": [
    {
     "name": "stdout",
     "output_type": "stream",
     "text": [
      "dog dog 1.0\n",
      "dog elephant 0.45768416\n",
      "dog pet 0.8057452\n",
      "elephant dog 0.45768416\n",
      "elephant elephant 1.0\n",
      "elephant pet 0.3863391\n",
      "pet dog 0.8057452\n",
      "pet elephant 0.3863391\n",
      "pet pet 1.0\n"
     ]
    }
   ],
   "source": [
    "for words1 in token:\n",
    "    for words2 in token:\n",
    "        print(words1.text,words2.text,words1.similarity(words2))"
   ]
  },
  {
   "cell_type": "code",
   "execution_count": 15,
   "metadata": {},
   "outputs": [
    {
     "data": {
      "text/plain": [
       "684831"
      ]
     },
     "execution_count": 15,
     "metadata": {},
     "output_type": "execute_result"
    }
   ],
   "source": [
    "len(nlp.vocab.vectors)"
   ]
  },
  {
   "cell_type": "code",
   "execution_count": 17,
   "metadata": {},
   "outputs": [],
   "source": [
    "from scipy import spatial"
   ]
  },
  {
   "cell_type": "code",
   "execution_count": 19,
   "metadata": {},
   "outputs": [],
   "source": [
    "soine_similarity=lambda vec1,vec2: 1 -spatial.distance.cosine(vec1,vec2)"
   ]
  },
  {
   "cell_type": "code",
   "execution_count": 21,
   "metadata": {},
   "outputs": [],
   "source": [
    "pet=nlp.vocab['pet'].vector\n",
    "dog=nlp.vocab['dog'].vector\n",
    "elephant=nlp.vocab['elephant'].vector"
   ]
  },
  {
   "cell_type": "code",
   "execution_count": 22,
   "metadata": {},
   "outputs": [],
   "source": [
    "new_vector=pet-elephant+dog"
   ]
  },
  {
   "cell_type": "code",
   "execution_count": 24,
   "metadata": {},
   "outputs": [],
   "source": [
    "com_sim=[]\n",
    "for word in nlp.vocab:\n",
    "    if word.has_vector:\n",
    "        if word.is_lower:\n",
    "            if word.is_alpha:\n",
    "                similarity=soine_similarity(new_vector,word.vector)\n",
    "                com_sim.append((word,similarity))"
   ]
  },
  {
   "cell_type": "code",
   "execution_count": 25,
   "metadata": {},
   "outputs": [],
   "source": [
    "com_sim=sorted(com_sim,key=lambda item: -item[1])"
   ]
  },
  {
   "cell_type": "code",
   "execution_count": 33,
   "metadata": {},
   "outputs": [
    {
     "name": "stdout",
     "output_type": "stream",
     "text": [
      "['pet', 'dog', 'pets', 'dogs', 'puppy', 'kennel', 'cat', 'puppies', 'canine', 'cats', 'pup', 'kennels', 'grooming', 'terrier', 'kitten', 'pooch', 'leash', 'ferret', 'doggie', 'retriever', 'vet', 'breed', 'breeder', 'veterinarian', 'poodle', 'chihuahua', 'kitty', 'litter', 'feline', 'kittens', 'canines', 'breeders', 'beagle', 'pug', 'labrador', 'yorkie', 'animal', 'pups', 'veterinary', 'breeds', 'groomer', 'bulldog', 'crate', 'dachshund', 'hound', 'doggy', 'shelter', 'collars', 'treats', 'collie']\n"
     ]
    }
   ],
   "source": [
    "print([t[0].text for t in com_sim[:50]])"
   ]
  },
  {
   "cell_type": "code",
   "execution_count": 36,
   "metadata": {},
   "outputs": [],
   "source": [
    "def vector_math(a,b,c):\n",
    "    soine_similarity=lambda vec1,vec2: 1 -spatial.distance.cosine(vec1,vec2)\n",
    "    a=nlp.vocab[a].vector\n",
    "    b=nlp.vocab[b].vector\n",
    "    c=nlp.vocab[c].vector\n",
    "    new_vector=a-b+c\n",
    "    com_sim=[]\n",
    "    for word in nlp.vocab:\n",
    "        if word.has_vector:\n",
    "            if word.is_lower:\n",
    "                if word.is_alpha:\n",
    "                    similarity=soine_similarity(new_vector,word.vector)\n",
    "                    com_sim.append((word,similarity))\n",
    "    com_sim=sorted(com_sim,key=lambda item: -item[1])\n",
    "    print([t[0].text for t in com_sim[:50]])"
   ]
  },
  {
   "cell_type": "code",
   "execution_count": 37,
   "metadata": {},
   "outputs": [
    {
     "name": "stdout",
     "output_type": "stream",
     "text": [
      "['king', 'queen', 'prince', 'kings', 'princess', 'royal', 'throne', 'queens', 'monarch', 'kingdom', 'empress', 'lady', 'woman', 'princes', 'mother', 'duke', 'emperor', 'reign', 'goddess', 'lord', 'palace', 'coronation', 'wife', 'daughter', 'elizabeth', 'bride', 'mistress', 'countess', 'duchess', 'girl', 'ruler', 'mary', 'consort', 'maid', 'nobles', 'marry', 'pharaoh', 'knight', 'sultan', 'dynasty', 'reigned', 'princesses', 'warrior', 'regent', 'daughters', 'pregnant', 'widow', 'crown', 'sister', 'monarchs']\n"
     ]
    }
   ],
   "source": [
    "vector_math('king','man','woman')"
   ]
  },
  {
   "cell_type": "code",
   "execution_count": 53,
   "metadata": {},
   "outputs": [],
   "source": [
    "import nltk"
   ]
  },
  {
   "cell_type": "code",
   "execution_count": 54,
   "metadata": {},
   "outputs": [],
   "source": [
    "from nltk.sentiment.vader import SentimentIntensityAnalyzer"
   ]
  },
  {
   "cell_type": "code",
   "execution_count": 55,
   "metadata": {},
   "outputs": [],
   "source": [
    "sa=SentimentIntensityAnalyzer()"
   ]
  },
  {
   "cell_type": "code",
   "execution_count": 56,
   "metadata": {},
   "outputs": [
    {
     "data": {
      "text/plain": [
       "{'neg': 0.0, 'neu': 0.452, 'pos': 0.548, 'compound': 0.5622}"
      ]
     },
     "execution_count": 56,
     "metadata": {},
     "output_type": "execute_result"
    }
   ],
   "source": [
    "a=\"This is a GOOD movie  \"\n",
    "sa.polarity_scores(a)"
   ]
  },
  {
   "cell_type": "code",
   "execution_count": 64,
   "metadata": {},
   "outputs": [],
   "source": [
    "def review_rating(string):\n",
    "    score=sa.polarity_scores(string)\n",
    "    if (score['compound'] ==0):\n",
    "        print(\"Its is Neutral review\")\n",
    "    elif (score['compound'] < 0):\n",
    "        print(\"Its is Negetive review\")\n",
    "    elif (score['compound'] > 0):\n",
    "        print(\"Its is Positive review\")\n"
   ]
  },
  {
   "cell_type": "code",
   "execution_count": 65,
   "metadata": {},
   "outputs": [],
   "source": [
    "review=\"This moive is the worst of all movie i have EVER SEEN in my whole life\""
   ]
  },
  {
   "cell_type": "code",
   "execution_count": 66,
   "metadata": {},
   "outputs": [
    {
     "name": "stdout",
     "output_type": "stream",
     "text": [
      "Its is Negetive review\n"
     ]
    }
   ],
   "source": [
    "review_rating(review)"
   ]
  },
  {
   "cell_type": "code",
   "execution_count": null,
   "metadata": {},
   "outputs": [],
   "source": []
  }
 ],
 "metadata": {
  "kernelspec": {
   "display_name": "Python 3",
   "language": "python",
   "name": "python3"
  },
  "language_info": {
   "codemirror_mode": {
    "name": "ipython",
    "version": 3
   },
   "file_extension": ".py",
   "mimetype": "text/x-python",
   "name": "python",
   "nbconvert_exporter": "python",
   "pygments_lexer": "ipython3",
   "version": "3.7.3"
  }
 },
 "nbformat": 4,
 "nbformat_minor": 2
}
