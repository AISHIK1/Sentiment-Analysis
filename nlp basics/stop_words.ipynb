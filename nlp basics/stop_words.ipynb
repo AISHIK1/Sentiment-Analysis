{
 "cells": [
  {
   "cell_type": "code",
   "execution_count": 1,
   "metadata": {},
   "outputs": [],
   "source": [
    "import spacy"
   ]
  },
  {
   "cell_type": "code",
   "execution_count": 2,
   "metadata": {},
   "outputs": [],
   "source": [
    "nlp=spacy.load('en_core_web_sm')"
   ]
  },
  {
   "cell_type": "code",
   "execution_count": 3,
   "metadata": {},
   "outputs": [
    {
     "name": "stdout",
     "output_type": "stream",
     "text": [
      "{'itself', 'ours', 'everywhere', 'also', 'seem', 'done', \"n't\", 'my', 'due', 'several', 'hence', 'across', 'thereupon', 'made', 'she', 'almost', 'though', '‘m', 'who', 'used', 'are', 'am', 'nine', 'please', '’m', 'among', 'whether', 'along', 'to', 'his', 'get', 'down', 'formerly', 'something', 'however', 'onto', 'is', 'not', 'where', 'myself', 'he', 'nor', 'herself', 'per', 'had', 'below', 'whatever', 'eleven', 'may', 'against', 'make', 'about', 'first', 'after', 'yours', 'that', 'bottom', 'five', 'towards', 'i', 'still', 'together', 'because', 'whose', 'unless', 'alone', 'back', 'front', 'did', 'perhaps', '’d', 'less', 'but', 'thereby', 'them', 'all', 'part', 'each', 'out', 'beside', 'now', 'nothing', 'twelve', 'hereupon', 'via', 're', 'most', 'regarding', 'show', 'their', 'himself', 'wherein', 'any', 'becoming', '’ll', 'was', '‘re', 'wherever', 'seems', 'thereafter', 'those', 'before', 'within', 'at', 'over', 'afterwards', 'although', 'much', 'n’t', 'when', 'somehow', 'further', 'become', 'whereas', 'above', 'other', 'noone', 'serious', 'others', 'hereby', 'here', 'quite', 'such', 'our', 'does', \"'ll\", 'will', 'side', 'upon', 'nowhere', 'him', 'would', \"'s\", 'whole', 'mine', 'nevertheless', 'meanwhile', 'someone', 'whereupon', 'while', 'whereafter', 'very', 'can', 'without', 'amount', 'no', 'own', 'move', 'using', 'many', 'there', 'give', 'cannot', 'moreover', 'we', 'say', 'various', 'your', 'next', 'take', 'well', 'what', 'latterly', 'up', 'four', 'thru', 'namely', 'which', 'whom', 'be', 'last', 'see', 'one', 'of', 'for', 'why', 'whereby', 'from', 'becomes', 'latter', \"'m\", 'few', 'enough', 'toward', 'except', 'mostly', 'really', 'ever', 'fifty', 'it', 'somewhere', \"'ve\", 'might', 'since', 'whither', 'never', 'forty', 'yourselves', 'anything', 'beyond', 'six', 'nobody', 'doing', 'sometime', 'both', 'yourself', 'full', 'beforehand', 'into', 'n‘t', 'her', 'whoever', 'me', 'seemed', 'some', 'former', 'so', 'us', 'once', 'or', 'by', 'whenever', 'keep', 'have', 'its', 'even', 'as', 'rather', 'another', 'ten', 'under', 'then', 'already', 'could', 'between', 'therein', 'these', 'always', 'just', 'the', 'elsewhere', 'three', 'around', 'themselves', 'everything', 'hereafter', 'thus', 'until', 'been', 'neither', 'anyway', 'ourselves', 'anyone', 'thence', 'herein', 'name', 'twenty', 'ca', 'if', 'third', 'go', 'more', 'off', 'than', 'a', \"'d\", 'should', 'do', 'indeed', 'fifteen', 'empty', 'yet', 'amongst', 'hers', 'being', '‘s', 'besides', 'least', '’re', 'call', 'were', 'during', '‘ll', 'how', 'same', '’s', 'else', 'with', 'seeming', 'again', 'an', \"'re\", 'and', 'often', 'none', 'you', 'sixty', 'on', 'in', 'two', 'sometimes', 'everyone', '‘ve', 'must', 'through', 'has', 'whence', 'throughout', 'anyhow', 'only', 'top', 'behind', 'they', '‘d', 'anywhere', 'therefore', 'otherwise', 'eight', 'either', '’ve', 'became', 'every', 'too', 'put', 'hundred', 'this'}\n"
     ]
    }
   ],
   "source": [
    "print(nlp.Defaults.stop_words)"
   ]
  },
  {
   "cell_type": "code",
   "execution_count": 4,
   "metadata": {},
   "outputs": [
    {
     "data": {
      "text/plain": [
       "326"
      ]
     },
     "execution_count": 4,
     "metadata": {},
     "output_type": "execute_result"
    }
   ],
   "source": [
    "len(nlp.Defaults.stop_words)"
   ]
  },
  {
   "cell_type": "code",
   "execution_count": 6,
   "metadata": {},
   "outputs": [
    {
     "data": {
      "text/plain": [
       "True"
      ]
     },
     "execution_count": 6,
     "metadata": {},
     "output_type": "execute_result"
    }
   ],
   "source": [
    "nlp.vocab['is'].is_stop"
   ]
  },
  {
   "cell_type": "code",
   "execution_count": 7,
   "metadata": {},
   "outputs": [
    {
     "data": {
      "text/plain": [
       "True"
      ]
     },
     "execution_count": 7,
     "metadata": {},
     "output_type": "execute_result"
    }
   ],
   "source": [
    "nlp.Defaults.stop_words.add('btw')\n",
    "nlp.vocab['btw'].is_stop=True\n",
    "nlp.vocab['btw'].is_stop"
   ]
  },
  {
   "cell_type": "code",
   "execution_count": 8,
   "metadata": {},
   "outputs": [
    {
     "data": {
      "text/plain": [
       "False"
      ]
     },
     "execution_count": 8,
     "metadata": {},
     "output_type": "execute_result"
    }
   ],
   "source": [
    "nlp.Defaults.stop_words.remove('here')\n",
    "nlp.vocab['here'].is_stop=False\n",
    "nlp.vocab['here'].is_stop"
   ]
  },
  {
   "cell_type": "code",
   "execution_count": 9,
   "metadata": {},
   "outputs": [
    {
     "data": {
      "text/plain": [
       "False"
      ]
     },
     "execution_count": 9,
     "metadata": {},
     "output_type": "execute_result"
    }
   ],
   "source": [
    "nlp.vocab['here'].is_stop"
   ]
  },
  {
   "cell_type": "code",
   "execution_count": null,
   "metadata": {},
   "outputs": [],
   "source": []
  }
 ],
 "metadata": {
  "kernelspec": {
   "display_name": "Python 3",
   "language": "python",
   "name": "python3"
  },
  "language_info": {
   "codemirror_mode": {
    "name": "ipython",
    "version": 3
   },
   "file_extension": ".py",
   "mimetype": "text/x-python",
   "name": "python",
   "nbconvert_exporter": "python",
   "pygments_lexer": "ipython3",
   "version": "3.7.3"
  }
 },
 "nbformat": 4,
 "nbformat_minor": 2
}
