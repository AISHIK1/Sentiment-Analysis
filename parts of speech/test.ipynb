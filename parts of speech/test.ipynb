{
 "cells": [
  {
   "cell_type": "code",
   "execution_count": 1,
   "metadata": {},
   "outputs": [],
   "source": [
    "import spacy\n",
    "nlp = spacy.load('en_core_web_sm')\n",
    "from spacy import displacy"
   ]
  },
  {
   "cell_type": "code",
   "execution_count": 3,
   "metadata": {},
   "outputs": [],
   "source": [
    "with open('peterrabbit.txt') as f:\n",
    "    doc=nlp(f.read())"
   ]
  },
  {
   "cell_type": "code",
   "execution_count": 4,
   "metadata": {},
   "outputs": [
    {
     "name": "stdout",
     "output_type": "stream",
     "text": [
      "The Tale of Peter Rabbit, by Beatrix Potter (1902).\n",
      "\n",
      "Once upon a time there were four little Rabbits, and their names\n",
      "were--\n",
      "\n",
      "          Flopsy,\n",
      "       Mopsy,\n",
      "   Cotton-tail,\n",
      "and Peter.\n",
      "\n",
      "They lived with their Mother in a sand-bank, underneath the root of a\n",
      "very big fir-tree.\n",
      "\n",
      "'Now my dears,' said old Mrs. Rabbit one morning, 'you may go into\n",
      "the fields or down the lane, but don't go into Mr. McGregor's garden:\n",
      "your Father had an accident there; he was put in a pie by Mrs.\n",
      "McGregor.'\n",
      "\n",
      "'Now run along, and don't get into mischief. I am going out.'\n",
      "\n",
      "Then old Mrs. Rabbit took a basket and her umbrella, and went through\n",
      "the wood to the baker's. She bought a loaf of brown bread and five\n",
      "currant buns.\n",
      "\n",
      "Flopsy, Mopsy, and Cottontail, who were good little bunnies, went\n",
      "down the lane to gather blackberries:\n",
      "\n",
      "But Peter, who was very naughty, ran straight away to Mr. McGregor's\n",
      "garden, and squeezed under the gate!\n",
      "\n",
      "First he ate some lettuces and some French beans; and then he ate\n",
      "some radishes;\n",
      "\n",
      "And then, feeling rather sick, he went to look for some parsley.\n",
      "\n",
      "But round the end of a cucumber frame, whom should he meet but Mr.\n",
      "McGregor!\n",
      "\n",
      "Mr. McGregor was on his hands and knees planting out young cabbages,\n",
      "but he jumped up and ran after Peter, waving a rake and calling out,\n",
      "'Stop thief!'\n",
      "\n",
      "Peter was most dreadfully frightened; he rushed all over the garden,\n",
      "for he had forgotten the way back to the gate.\n",
      "\n",
      "He lost one of his shoes among the cabbages, and the other shoe\n",
      "amongst the potatoes.\n",
      "\n",
      "After losing them, he ran on four legs and went faster, so that I\n",
      "think he might have got away altogether if he had not unfortunately\n",
      "run into a gooseberry net, and got caught by the large buttons on his\n",
      "jacket. It was a blue jacket with brass buttons, quite new.\n",
      "\n",
      "Peter gave himself up for lost, and shed big tears; but his sobs were\n",
      "overheard by some friendly sparrows, who flew to him in great\n",
      "excitement, and implored him to exert himself.\n",
      "\n",
      "Mr. McGregor came up with a sieve, which he intended to pop upon the\n",
      "top of Peter; but Peter wriggled out just in time, leaving his jacket\n",
      "behind him.\n",
      "\n",
      "And rushed into the tool-shed, and jumped into a can. It would have\n",
      "been a beautiful thing to hide in, if it had not had so much water in it.\n",
      "\n",
      "Mr. McGregor was quite sure that Peter was somewhere in the\n",
      "tool-shed, perhaps hidden underneath a flower-pot. He began to turn\n",
      "them over carefully, looking under each.\n",
      "\n",
      "Presently Peter sneezed--'Kertyschoo!' Mr. McGregor was after him in\n",
      "no time.\n",
      "\n",
      "And tried to put his foot upon Peter, who jumped out of a window,\n",
      "upsetting three plants. The window was too small for Mr. McGregor, and\n",
      "he was tired of running after Peter. He went back to his work.\n",
      "\n",
      "Peter sat down to rest; he was out of breath and trembling with\n",
      "fright, and he had not the least idea which way to go. Also he was\n",
      "very damp with sitting in that can.\n",
      "\n",
      "After a time he began to wander about, going lippity--lippity--not\n",
      "very fast, and looking all round.\n",
      "\n",
      "He found a door in a wall; but it was locked, and there was no room\n",
      "for a fat little rabbit to squeeze underneath.\n",
      "\n",
      "An old mouse was running in and out over the stone doorstep, carrying\n",
      "peas and beans to her family in the wood. Peter asked her the way to\n",
      "the gate, but she had such a large pea in her mouth that she could not\n",
      "answer. She only shook her head at him. Peter began to cry.\n",
      "\n",
      "Then he tried to find his way straight across the garden, but he\n",
      "became more and more puzzled. Presently, he came to a pond where Mr.\n",
      "McGregor filled his water-cans. A white cat was staring at some\n",
      "gold-fish, she sat very, very still, but now and then the tip of her\n",
      "tail twitched as if it were alive. Peter thought it best to go away\n",
      "without speaking to her; he had heard about cats from his cousin,\n",
      "little Benjamin Bunny.\n",
      "\n",
      "He went back towards the tool-shed, but suddenly, quite close to him,\n",
      "he heard the noise of a hoe--scr-r-ritch, scratch, scratch, scritch.\n",
      "Peter scuttered underneath the bushes. But presently, as nothing\n",
      "happened, he came out, and climbed upon a wheelbarrow and peeped over.\n",
      "The first thing he saw was Mr. McGregor hoeing onions. His back was\n",
      "turned towards Peter, and beyond him was the gate!\n",
      "\n",
      "Peter got down very quietly off the wheelbarrow; and started running\n",
      "as fast as he could go, along a straight walk behind some\n",
      "black-currant bushes.\n",
      "\n",
      "Mr. McGregor caught sight of him at the corner, but Peter did not\n",
      "care. He slipped underneath the gate, and was safe at last in the wood\n",
      "outside the garden.\n",
      "\n",
      "Mr. McGregor hung up the little jacket and the shoes for a scare-crow\n",
      "to frighten the blackbirds.\n",
      "\n",
      "Peter never stopped running or looked behind him till he got home to\n",
      "the big fir-tree.\n",
      "\n",
      "He was so tired that he flopped down upon the nice soft sand on the\n",
      "floor of the rabbit-hole and shut his eyes. His mother was busy\n",
      "cooking; she wondered what he had done with his clothes. It was the\n",
      "second little jacket and pair of shoes that Peter had lost in a\n",
      "fortnight!\n",
      "\n",
      "I am sorry to say that Peter was not very well during the evening.\n",
      "\n",
      "His mother put him to bed, and made some camomile tea; and she gave a\n",
      "dose of it to Peter!\n",
      "\n",
      "'One table-spoonful to be taken at bed-time.'\n",
      "\n",
      "But Flopsy, Mopsy, and Cotton-tail had bread and milk and\n",
      "blackberries for supper.\n",
      "\n",
      "THE END\n",
      "\n"
     ]
    }
   ],
   "source": [
    "print(doc)"
   ]
  },
  {
   "cell_type": "code",
   "execution_count": 5,
   "metadata": {},
   "outputs": [],
   "source": [
    "doc_list=list(doc.sents)"
   ]
  },
  {
   "cell_type": "code",
   "execution_count": 15,
   "metadata": {},
   "outputs": [
    {
     "name": "stdout",
     "output_type": "stream",
     "text": [
      "They                PRON      PRP       pronoun, personal\n",
      "lived               VERB      VBD       verb, past tense\n",
      "with                ADP       IN        conjunction, subordinating or preposition\n",
      "their               DET       PRP$      pronoun, possessive\n",
      "Mother              PROPN     NNP       noun, proper singular\n",
      "in                  ADP       IN        conjunction, subordinating or preposition\n",
      "a                   DET       DT        determiner\n",
      "sand                NOUN      NN        noun, singular or mass\n",
      "-                   PUNCT     HYPH      punctuation mark, hyphen\n",
      "bank                NOUN      NN        noun, singular or mass\n",
      ",                   PUNCT     ,         punctuation mark, comma\n",
      "underneath          ADP       IN        conjunction, subordinating or preposition\n",
      "the                 DET       DT        determiner\n",
      "root                NOUN      NN        noun, singular or mass\n",
      "of                  ADP       IN        conjunction, subordinating or preposition\n",
      "a                   DET       DT        determiner\n",
      "\n",
      "                   SPACE     _SP       None\n",
      "very                ADV       RB        adverb\n",
      "big                 ADJ       JJ        adjective\n",
      "fir                 NOUN      NN        noun, singular or mass\n",
      "-                   PUNCT     HYPH      punctuation mark, hyphen\n",
      "tree                NOUN      NN        noun, singular or mass\n",
      ".                   PUNCT     .         punctuation mark, sentence closer\n",
      "\n",
      "\n",
      "                  SPACE     _SP       None\n"
     ]
    }
   ],
   "source": [
    "for token in doc_list[3]:\n",
    "    print(f\"{token.text:{20}}{token.pos_:<{10}}{token.tag_:<{10}}{str(spacy.explain(token.tag_))}\")"
   ]
  },
  {
   "cell_type": "code",
   "execution_count": 16,
   "metadata": {},
   "outputs": [],
   "source": [
    "POS_count=doc.count_by(spacy.attrs.POS)"
   ]
  },
  {
   "cell_type": "code",
   "execution_count": 18,
   "metadata": {
    "scrolled": true
   },
   "outputs": [
    {
     "name": "stdout",
     "output_type": "stream",
     "text": [
      "84     ADJ       57\n",
      "85     ADP       129\n",
      "86     ADV       75\n",
      "89     CCONJ     61\n",
      "90     DET       118\n",
      "92     NOUN      166\n",
      "93     NUM       8\n",
      "94     PART      34\n",
      "95     PRON      78\n",
      "96     PROPN     75\n",
      "97     PUNCT     173\n",
      "100     VERB      185\n",
      "103     SPACE     99\n"
     ]
    }
   ],
   "source": [
    "for k,v in sorted(POS_count.items()):\n",
    "    print(f\"{k}     {doc.vocab[k].text:{10}}{v}\")"
   ]
  },
  {
   "cell_type": "code",
   "execution_count": 19,
   "metadata": {},
   "outputs": [
    {
     "data": {
      "text/plain": [
       "1258"
      ]
     },
     "execution_count": 19,
     "metadata": {},
     "output_type": "execute_result"
    }
   ],
   "source": [
    "len(doc)"
   ]
  },
  {
   "cell_type": "code",
   "execution_count": 20,
   "metadata": {},
   "outputs": [],
   "source": [
    "percent=(POS_count[92]/len(doc))*100"
   ]
  },
  {
   "cell_type": "code",
   "execution_count": 21,
   "metadata": {},
   "outputs": [
    {
     "name": "stdout",
     "output_type": "stream",
     "text": [
      "13.195548489666137\n"
     ]
    }
   ],
   "source": [
    "print(percent)"
   ]
  },
  {
   "cell_type": "code",
   "execution_count": 22,
   "metadata": {},
   "outputs": [
    {
     "data": {
      "text/html": [
       "<svg xmlns=\"http://www.w3.org/2000/svg\" xmlns:xlink=\"http://www.w3.org/1999/xlink\" xml:lang=\"en\" id=\"02fd25d295034ae7a1e2e19709b937b4-0\" class=\"displacy\" width=\"1800\" height=\"487.0\" direction=\"ltr\" style=\"max-width: none; height: 487.0px; color: #000000; background: #ffffff; font-family: Arial; direction: ltr\">\n",
       "<text class=\"displacy-token\" fill=\"currentColor\" text-anchor=\"middle\" y=\"397.0\">\n",
       "    <tspan class=\"displacy-word\" fill=\"currentColor\" x=\"50\">Flopsy,</tspan>\n",
       "    <tspan class=\"displacy-tag\" dy=\"2em\" fill=\"currentColor\" x=\"50\">PROPN</tspan>\n",
       "</text>\n",
       "\n",
       "<text class=\"displacy-token\" fill=\"currentColor\" text-anchor=\"middle\" y=\"397.0\">\n",
       "    <tspan class=\"displacy-word\" fill=\"currentColor\" x=\"225\">\n",
       "       </tspan>\n",
       "    <tspan class=\"displacy-tag\" dy=\"2em\" fill=\"currentColor\" x=\"225\">SPACE</tspan>\n",
       "</text>\n",
       "\n",
       "<text class=\"displacy-token\" fill=\"currentColor\" text-anchor=\"middle\" y=\"397.0\">\n",
       "    <tspan class=\"displacy-word\" fill=\"currentColor\" x=\"400\">Mopsy,</tspan>\n",
       "    <tspan class=\"displacy-tag\" dy=\"2em\" fill=\"currentColor\" x=\"400\">PROPN</tspan>\n",
       "</text>\n",
       "\n",
       "<text class=\"displacy-token\" fill=\"currentColor\" text-anchor=\"middle\" y=\"397.0\">\n",
       "    <tspan class=\"displacy-word\" fill=\"currentColor\" x=\"575\">\n",
       "   </tspan>\n",
       "    <tspan class=\"displacy-tag\" dy=\"2em\" fill=\"currentColor\" x=\"575\">SPACE</tspan>\n",
       "</text>\n",
       "\n",
       "<text class=\"displacy-token\" fill=\"currentColor\" text-anchor=\"middle\" y=\"397.0\">\n",
       "    <tspan class=\"displacy-word\" fill=\"currentColor\" x=\"750\">Cotton-</tspan>\n",
       "    <tspan class=\"displacy-tag\" dy=\"2em\" fill=\"currentColor\" x=\"750\">PROPN</tspan>\n",
       "</text>\n",
       "\n",
       "<text class=\"displacy-token\" fill=\"currentColor\" text-anchor=\"middle\" y=\"397.0\">\n",
       "    <tspan class=\"displacy-word\" fill=\"currentColor\" x=\"925\">tail,</tspan>\n",
       "    <tspan class=\"displacy-tag\" dy=\"2em\" fill=\"currentColor\" x=\"925\">NOUN</tspan>\n",
       "</text>\n",
       "\n",
       "<text class=\"displacy-token\" fill=\"currentColor\" text-anchor=\"middle\" y=\"397.0\">\n",
       "    <tspan class=\"displacy-word\" fill=\"currentColor\" x=\"1100\">\n",
       "</tspan>\n",
       "    <tspan class=\"displacy-tag\" dy=\"2em\" fill=\"currentColor\" x=\"1100\">SPACE</tspan>\n",
       "</text>\n",
       "\n",
       "<text class=\"displacy-token\" fill=\"currentColor\" text-anchor=\"middle\" y=\"397.0\">\n",
       "    <tspan class=\"displacy-word\" fill=\"currentColor\" x=\"1275\">and</tspan>\n",
       "    <tspan class=\"displacy-tag\" dy=\"2em\" fill=\"currentColor\" x=\"1275\">CCONJ</tspan>\n",
       "</text>\n",
       "\n",
       "<text class=\"displacy-token\" fill=\"currentColor\" text-anchor=\"middle\" y=\"397.0\">\n",
       "    <tspan class=\"displacy-word\" fill=\"currentColor\" x=\"1450\">Peter.</tspan>\n",
       "    <tspan class=\"displacy-tag\" dy=\"2em\" fill=\"currentColor\" x=\"1450\">PROPN</tspan>\n",
       "</text>\n",
       "\n",
       "<text class=\"displacy-token\" fill=\"currentColor\" text-anchor=\"middle\" y=\"397.0\">\n",
       "    <tspan class=\"displacy-word\" fill=\"currentColor\" x=\"1625\">\n",
       "\n",
       "</tspan>\n",
       "    <tspan class=\"displacy-tag\" dy=\"2em\" fill=\"currentColor\" x=\"1625\">SPACE</tspan>\n",
       "</text>\n",
       "\n",
       "<g class=\"displacy-arrow\">\n",
       "    <path class=\"displacy-arc\" id=\"arrow-02fd25d295034ae7a1e2e19709b937b4-0-0\" stroke-width=\"2px\" d=\"M70,352.0 C70,177.0 390.0,177.0 390.0,352.0\" fill=\"none\" stroke=\"currentColor\"/>\n",
       "    <text dy=\"1.25em\" style=\"font-size: 0.8em; letter-spacing: 1px\">\n",
       "        <textPath xlink:href=\"#arrow-02fd25d295034ae7a1e2e19709b937b4-0-0\" class=\"displacy-label\" startOffset=\"50%\" side=\"left\" fill=\"currentColor\" text-anchor=\"middle\">nmod</textPath>\n",
       "    </text>\n",
       "    <path class=\"displacy-arrowhead\" d=\"M70,354.0 L62,342.0 78,342.0\" fill=\"currentColor\"/>\n",
       "</g>\n",
       "\n",
       "<g class=\"displacy-arrow\">\n",
       "    <path class=\"displacy-arc\" id=\"arrow-02fd25d295034ae7a1e2e19709b937b4-0-1\" stroke-width=\"2px\" d=\"M70,352.0 C70,264.5 210.0,264.5 210.0,352.0\" fill=\"none\" stroke=\"currentColor\"/>\n",
       "    <text dy=\"1.25em\" style=\"font-size: 0.8em; letter-spacing: 1px\">\n",
       "        <textPath xlink:href=\"#arrow-02fd25d295034ae7a1e2e19709b937b4-0-1\" class=\"displacy-label\" startOffset=\"50%\" side=\"left\" fill=\"currentColor\" text-anchor=\"middle\"></textPath>\n",
       "    </text>\n",
       "    <path class=\"displacy-arrowhead\" d=\"M210.0,354.0 L218.0,342.0 202.0,342.0\" fill=\"currentColor\"/>\n",
       "</g>\n",
       "\n",
       "<g class=\"displacy-arrow\">\n",
       "    <path class=\"displacy-arc\" id=\"arrow-02fd25d295034ae7a1e2e19709b937b4-0-2\" stroke-width=\"2px\" d=\"M420,352.0 C420,264.5 560.0,264.5 560.0,352.0\" fill=\"none\" stroke=\"currentColor\"/>\n",
       "    <text dy=\"1.25em\" style=\"font-size: 0.8em; letter-spacing: 1px\">\n",
       "        <textPath xlink:href=\"#arrow-02fd25d295034ae7a1e2e19709b937b4-0-2\" class=\"displacy-label\" startOffset=\"50%\" side=\"left\" fill=\"currentColor\" text-anchor=\"middle\"></textPath>\n",
       "    </text>\n",
       "    <path class=\"displacy-arrowhead\" d=\"M560.0,354.0 L568.0,342.0 552.0,342.0\" fill=\"currentColor\"/>\n",
       "</g>\n",
       "\n",
       "<g class=\"displacy-arrow\">\n",
       "    <path class=\"displacy-arc\" id=\"arrow-02fd25d295034ae7a1e2e19709b937b4-0-3\" stroke-width=\"2px\" d=\"M770,352.0 C770,264.5 910.0,264.5 910.0,352.0\" fill=\"none\" stroke=\"currentColor\"/>\n",
       "    <text dy=\"1.25em\" style=\"font-size: 0.8em; letter-spacing: 1px\">\n",
       "        <textPath xlink:href=\"#arrow-02fd25d295034ae7a1e2e19709b937b4-0-3\" class=\"displacy-label\" startOffset=\"50%\" side=\"left\" fill=\"currentColor\" text-anchor=\"middle\">compound</textPath>\n",
       "    </text>\n",
       "    <path class=\"displacy-arrowhead\" d=\"M770,354.0 L762,342.0 778,342.0\" fill=\"currentColor\"/>\n",
       "</g>\n",
       "\n",
       "<g class=\"displacy-arrow\">\n",
       "    <path class=\"displacy-arc\" id=\"arrow-02fd25d295034ae7a1e2e19709b937b4-0-4\" stroke-width=\"2px\" d=\"M420,352.0 C420,89.5 920.0,89.5 920.0,352.0\" fill=\"none\" stroke=\"currentColor\"/>\n",
       "    <text dy=\"1.25em\" style=\"font-size: 0.8em; letter-spacing: 1px\">\n",
       "        <textPath xlink:href=\"#arrow-02fd25d295034ae7a1e2e19709b937b4-0-4\" class=\"displacy-label\" startOffset=\"50%\" side=\"left\" fill=\"currentColor\" text-anchor=\"middle\">conj</textPath>\n",
       "    </text>\n",
       "    <path class=\"displacy-arrowhead\" d=\"M920.0,354.0 L928.0,342.0 912.0,342.0\" fill=\"currentColor\"/>\n",
       "</g>\n",
       "\n",
       "<g class=\"displacy-arrow\">\n",
       "    <path class=\"displacy-arc\" id=\"arrow-02fd25d295034ae7a1e2e19709b937b4-0-5\" stroke-width=\"2px\" d=\"M945,352.0 C945,264.5 1085.0,264.5 1085.0,352.0\" fill=\"none\" stroke=\"currentColor\"/>\n",
       "    <text dy=\"1.25em\" style=\"font-size: 0.8em; letter-spacing: 1px\">\n",
       "        <textPath xlink:href=\"#arrow-02fd25d295034ae7a1e2e19709b937b4-0-5\" class=\"displacy-label\" startOffset=\"50%\" side=\"left\" fill=\"currentColor\" text-anchor=\"middle\"></textPath>\n",
       "    </text>\n",
       "    <path class=\"displacy-arrowhead\" d=\"M1085.0,354.0 L1093.0,342.0 1077.0,342.0\" fill=\"currentColor\"/>\n",
       "</g>\n",
       "\n",
       "<g class=\"displacy-arrow\">\n",
       "    <path class=\"displacy-arc\" id=\"arrow-02fd25d295034ae7a1e2e19709b937b4-0-6\" stroke-width=\"2px\" d=\"M945,352.0 C945,177.0 1265.0,177.0 1265.0,352.0\" fill=\"none\" stroke=\"currentColor\"/>\n",
       "    <text dy=\"1.25em\" style=\"font-size: 0.8em; letter-spacing: 1px\">\n",
       "        <textPath xlink:href=\"#arrow-02fd25d295034ae7a1e2e19709b937b4-0-6\" class=\"displacy-label\" startOffset=\"50%\" side=\"left\" fill=\"currentColor\" text-anchor=\"middle\">cc</textPath>\n",
       "    </text>\n",
       "    <path class=\"displacy-arrowhead\" d=\"M1265.0,354.0 L1273.0,342.0 1257.0,342.0\" fill=\"currentColor\"/>\n",
       "</g>\n",
       "\n",
       "<g class=\"displacy-arrow\">\n",
       "    <path class=\"displacy-arc\" id=\"arrow-02fd25d295034ae7a1e2e19709b937b4-0-7\" stroke-width=\"2px\" d=\"M420,352.0 C420,2.0 1450.0,2.0 1450.0,352.0\" fill=\"none\" stroke=\"currentColor\"/>\n",
       "    <text dy=\"1.25em\" style=\"font-size: 0.8em; letter-spacing: 1px\">\n",
       "        <textPath xlink:href=\"#arrow-02fd25d295034ae7a1e2e19709b937b4-0-7\" class=\"displacy-label\" startOffset=\"50%\" side=\"left\" fill=\"currentColor\" text-anchor=\"middle\">punct</textPath>\n",
       "    </text>\n",
       "    <path class=\"displacy-arrowhead\" d=\"M1450.0,354.0 L1458.0,342.0 1442.0,342.0\" fill=\"currentColor\"/>\n",
       "</g>\n",
       "\n",
       "<g class=\"displacy-arrow\">\n",
       "    <path class=\"displacy-arc\" id=\"arrow-02fd25d295034ae7a1e2e19709b937b4-0-8\" stroke-width=\"2px\" d=\"M1470,352.0 C1470,264.5 1610.0,264.5 1610.0,352.0\" fill=\"none\" stroke=\"currentColor\"/>\n",
       "    <text dy=\"1.25em\" style=\"font-size: 0.8em; letter-spacing: 1px\">\n",
       "        <textPath xlink:href=\"#arrow-02fd25d295034ae7a1e2e19709b937b4-0-8\" class=\"displacy-label\" startOffset=\"50%\" side=\"left\" fill=\"currentColor\" text-anchor=\"middle\"></textPath>\n",
       "    </text>\n",
       "    <path class=\"displacy-arrowhead\" d=\"M1610.0,354.0 L1618.0,342.0 1602.0,342.0\" fill=\"currentColor\"/>\n",
       "</g>\n",
       "</svg>"
      ],
      "text/plain": [
       "<IPython.core.display.HTML object>"
      ]
     },
     "metadata": {},
     "output_type": "display_data"
    }
   ],
   "source": [
    "displacy.render(list(doc_list)[2],style='dep',jupyter=True)"
   ]
  },
  {
   "cell_type": "code",
   "execution_count": 24,
   "metadata": {},
   "outputs": [
    {
     "name": "stdout",
     "output_type": "stream",
     "text": [
      "Peter RabbitPERSONPeople, including fictional\n",
      "Beatrix PotterPERSONPeople, including fictional\n"
     ]
    }
   ],
   "source": [
    "for ent in doc.ents[:2]:\n",
    "    print(ent.text + ent.label_ + str(spacy.explain(ent.label_)))"
   ]
  },
  {
   "cell_type": "code",
   "execution_count": 25,
   "metadata": {},
   "outputs": [
    {
     "data": {
      "text/plain": [
       "60"
      ]
     },
     "execution_count": 25,
     "metadata": {},
     "output_type": "execute_result"
    }
   ],
   "source": [
    "len(doc_list)"
   ]
  },
  {
   "cell_type": "code",
   "execution_count": 26,
   "metadata": {},
   "outputs": [],
   "source": [
    "list_ner=[num for num in doc_list if num.ents]"
   ]
  },
  {
   "cell_type": "code",
   "execution_count": 27,
   "metadata": {},
   "outputs": [
    {
     "name": "stdout",
     "output_type": "stream",
     "text": [
      "39\n"
     ]
    }
   ],
   "source": [
    "print(len(list_ner))"
   ]
  },
  {
   "cell_type": "code",
   "execution_count": 28,
   "metadata": {},
   "outputs": [
    {
     "data": {
      "text/html": [
       "<div class=\"entities\" style=\"line-height: 2.5; direction: ltr\">The Tale of \n",
       "<mark class=\"entity\" style=\"background: #aa9cfc; padding: 0.45em 0.6em; margin: 0 0.25em; line-height: 1; border-radius: 0.35em; box-decoration-break: clone; -webkit-box-decoration-break: clone\">\n",
       "    Peter Rabbit\n",
       "    <span style=\"font-size: 0.8em; font-weight: bold; line-height: 1; border-radius: 0.35em; text-transform: uppercase; vertical-align: middle; margin-left: 0.5rem\">PERSON</span>\n",
       "</mark>\n",
       ", by \n",
       "<mark class=\"entity\" style=\"background: #aa9cfc; padding: 0.45em 0.6em; margin: 0 0.25em; line-height: 1; border-radius: 0.35em; box-decoration-break: clone; -webkit-box-decoration-break: clone\">\n",
       "    Beatrix Potter\n",
       "    <span style=\"font-size: 0.8em; font-weight: bold; line-height: 1; border-radius: 0.35em; text-transform: uppercase; vertical-align: middle; margin-left: 0.5rem\">PERSON</span>\n",
       "</mark>\n",
       " (\n",
       "<mark class=\"entity\" style=\"background: #bfe1d9; padding: 0.45em 0.6em; margin: 0 0.25em; line-height: 1; border-radius: 0.35em; box-decoration-break: clone; -webkit-box-decoration-break: clone\">\n",
       "    1902\n",
       "    <span style=\"font-size: 0.8em; font-weight: bold; line-height: 1; border-radius: 0.35em; text-transform: uppercase; vertical-align: middle; margin-left: 0.5rem\">DATE</span>\n",
       "</mark>\n",
       ").\n",
       "\n",
       "</div>"
      ],
      "text/plain": [
       "<IPython.core.display.HTML object>"
      ]
     },
     "metadata": {},
     "output_type": "display_data"
    }
   ],
   "source": [
    "displacy.render(list(doc_list)[0],style='ent',jupyter=True)"
   ]
  },
  {
   "cell_type": "code",
   "execution_count": null,
   "metadata": {},
   "outputs": [],
   "source": []
  }
 ],
 "metadata": {
  "kernelspec": {
   "display_name": "Python 3",
   "language": "python",
   "name": "python3"
  },
  "language_info": {
   "codemirror_mode": {
    "name": "ipython",
    "version": 3
   },
   "file_extension": ".py",
   "mimetype": "text/x-python",
   "name": "python",
   "nbconvert_exporter": "python",
   "pygments_lexer": "ipython3",
   "version": "3.7.3"
  }
 },
 "nbformat": 4,
 "nbformat_minor": 2
}
